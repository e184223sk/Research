{
 "cells": [
  {
   "cell_type": "markdown",
   "metadata": {},
   "source": [
    "# 青空文庫データコンバーター\n",
    "\n",
    "青空文庫の .txt 形式のファイルを適当なディレクトリに複数置いておけば、それらをつなげて本文の文（。で区切られる）毎に一行となるフォーマットに変換してくれます。\n",
    "雑にやってるので章や物語の切れ目などが考えられていなかったり、発話の途中の。で切られてたりします。"
   ]
  },
  {
   "cell_type": "code",
   "execution_count": null,
   "metadata": {},
   "outputs": [],
   "source": [
    "# カレントディレクトリをリポジトリ直下にするおまじない\n",
    "import os\n",
    "while os.getcwd().split('/')[-1] != 'deep_dialog_tutorial': os.chdir('..')\n",
    "print('current dir:', os.getcwd())"
   ]
  },
  {
   "cell_type": "code",
   "execution_count": null,
   "metadata": {},
   "outputs": [],
   "source": [
    "import os\n",
    "import re\n",
    "import codecs\n",
    "from tqdm import tqdm"
   ]
  },
  {
   "cell_type": "code",
   "execution_count": null,
   "metadata": {},
   "outputs": [],
   "source": [
    "# ここに青空文庫からダウンロードしたファイルを配置してください\n",
    "data_dir = 'tmp/natsume/'\n",
    "out_path = 'data/natsume.txt'\n",
    "\n",
    "os.makedirs(data_dir, exist_ok=True)"
   ]
  },
  {
   "cell_type": "code",
   "execution_count": null,
   "metadata": {},
   "outputs": [],
   "source": [
    "def convert_line(line):\n",
    "    line = line.replace('\\r\\n', '').replace('○', '').replace('\\u3000', '').replace('※', '').replace('｜', '')\n",
    "    line = re.sub(r'《.*?》', '', line)\n",
    "    line = re.sub(r'\\［.*?\\］', '', line)\n",
    "    if not line:\n",
    "        return []\n",
    "    sentence_list = line.split('。')\n",
    "    return [sentence + '。' for sentence in sentence_list if sentence]\n",
    "\n",
    "def get_text_list(file_path):\n",
    "    with codecs.open(file_path, mode='r', encoding='shift_jis') as f:\n",
    "        header_sep_count = 0\n",
    "        text_list = []\n",
    "        for line in f.readlines():\n",
    "            if line.startswith('-----------------'):\n",
    "                header_sep_count += 1\n",
    "                continue\n",
    "            if header_sep_count < 2:\n",
    "                continue\n",
    "            if line.startswith('底本：'):\n",
    "                break\n",
    "            text_list += convert_line(line)\n",
    "        return text_list"
   ]
  },
  {
   "cell_type": "code",
   "execution_count": null,
   "metadata": {},
   "outputs": [],
   "source": [
    "text_list = []\n",
    "\n",
    "file_name_list = os.listdir(data_dir)\n",
    "for file_name in tqdm(file_name_list):\n",
    "    file_path = os.path.join(data_dir, file_name)\n",
    "    text_list += get_text_list(file_path)\n",
    "print('{} lines'.format(len(text_list)))"
   ]
  },
  {
   "cell_type": "code",
   "execution_count": null,
   "metadata": {},
   "outputs": [],
   "source": [
    "with codecs.open(out_path, mode='w', encoding='utf-8') as f:\n",
    "    f.write('\\n'.join(text_list) + '\\n')"
   ]
  },
  {
   "cell_type": "code",
   "execution_count": null,
   "metadata": {},
   "outputs": [],
   "source": []
  }
 ],
 "metadata": {
  "kernelspec": {
   "display_name": "Python 3",
   "language": "python",
   "name": "python3"
  },
  "language_info": {
   "codemirror_mode": {
    "name": "ipython",
    "version": 3
   },
   "file_extension": ".py",
   "mimetype": "text/x-python",
   "name": "python",
   "nbconvert_exporter": "python",
   "pygments_lexer": "ipython3",
   "version": "3.6.5"
  }
 },
 "nbformat": 4,
 "nbformat_minor": 2
}
