{
 "cells": [
  {
   "cell_type": "code",
   "execution_count": 1,
   "metadata": {},
   "outputs": [
    {
     "name": "stdout",
     "output_type": "stream",
     "text": [
      "2.6.0\n",
      "hello world\n",
      "transformer\n",
      "current dir: C:\\Users\\konolab\\Desktop\\Research\\deep_dialog_tutorial\n"
     ]
    }
   ],
   "source": [
    "# カレントディレクトリをリポジトリ直下にするおまじない\n",
    "import os\n",
    "import tensorflow as tf \n",
    "print(tf.__version__)\n",
    "print(\"hello world\")\n",
    "print(os.getcwd().split('\\\\')[-1] )\n",
    "while os.getcwd().split('\\\\')[-1] != 'deep_dialog_tutorial': os.chdir('..')\n",
    "print('current dir:', os.getcwd())\n"
   ]
  },
  {
   "cell_type": "code",
   "execution_count": 2,
   "metadata": {},
   "outputs": [
    {
     "name": "stdout",
     "output_type": "stream",
     "text": [
      "C:\\Users\\konolab\\Desktop\\Research\\deep_dialog_tutorial\n"
     ]
    }
   ],
   "source": [
    "import os\n",
    "print(os.getcwd())\n",
    "import tensorflow as tf\n",
    "from deepdialog.transformer.transformer import Transformer\n",
    "from deepdialog.transformer.preprocess.batch_generator import BatchGenerator"
   ]
  },
  {
   "cell_type": "markdown",
   "metadata": {},
   "source": [
    "# Create Data"
   ]
  },
  {
   "cell_type": "code",
   "execution_count": 3,
   "metadata": {},
   "outputs": [],
   "source": [
    "data_path = 'data\\\\natsume.txt'"
   ]
  },
  {
   "cell_type": "code",
   "execution_count": 4,
   "metadata": {
    "scrolled": false
   },
   "outputs": [
    {
     "name": "stdout",
     "output_type": "stream",
     "text": [
      "明治三十八年九月。\n"
     ]
    }
   ],
   "source": [
    "batch_generator = BatchGenerator()\n",
    "batch_generator.load(data_path)"
   ]
  },
  {
   "cell_type": "code",
   "execution_count": null,
   "metadata": {},
   "outputs": [],
   "source": [
    "vocab_size = batch_generator.vocab_size"
   ]
  },
  {
   "cell_type": "markdown",
   "metadata": {},
   "source": [
    "# Create Model"
   ]
  },
  {
   "cell_type": "code",
   "execution_count": null,
   "metadata": {},
   "outputs": [],
   "source": [
    "graph = tf.Graph()\n",
    "with graph.as_default():\n",
    "    transformer = Transformer(\n",
    "        vocab_size=vocab_size,\n",
    "        hopping_num=4,\n",
    "        head_num=8,\n",
    "        hidden_dim=512,\n",
    "        dropout_rate=0.1,\n",
    "        max_length=50,\n",
    "    )\n",
    "    transformer.build_graph()"
   ]
  },
  {
   "cell_type": "markdown",
   "metadata": {},
   "source": [
    "# Create Training Graph"
   ]
  },
  {
   "cell_type": "code",
   "execution_count": null,
   "metadata": {},
   "outputs": [],
   "source": [
    "save_dir = 'tmp/learning/transformer/'\n",
    "log_dir = os.path.join(save_dir, 'log')\n",
    "ckpt_path = os.path.join(save_dir, 'checkpoints/model.ckpt')\n",
    "\n",
    "os.makedirs(log_dir, exist_ok=True)"
   ]
  },
  {
   "cell_type": "code",
   "execution_count": null,
   "metadata": {},
   "outputs": [],
   "source": [
    "with graph.as_default():\n",
    "    global_step = tf.compat.v1.train.get_or_create_global_step()\n",
    "    \n",
    "    learning_rate = tf.compat.v1.placeholder(dtype=tf.float32, name='learning_rate')\n",
    "    optimizer = tf.compat.v1.train.AdamOptimizer(\n",
    "        learning_rate=learning_rate,\n",
    "        beta2=0.98,\n",
    "    )\n",
    "    #TensorFlowには損失関数を最小限に抑えるために各変数をゆっくりと変更するオプティマイザが用意されている\n",
    "    optimize_op = optimizer.minimize(transformer.loss, global_step=global_step)\n",
    "# Tensor boardに出すためにデータをマージ\n",
    "    summary_op = tf.compat.v1.summary.merge([\n",
    "        tf.compat.v1.summary.scalar('train/loss', transformer.loss),\n",
    "        tf.compat.v1.summary.scalar('train/acc', transformer.acc),\n",
    "        tf.compat.v1.summary.scalar('train/learning_rate', learning_rate),\n",
    "    ], name='train_summary')\n",
    "    summary_writer = tf.compat.v1.summary.FileWriter(log_dir, graph)\n",
    "    saver = tf.compat.v1.train.Saver()"
   ]
  },
  {
   "cell_type": "markdown",
   "metadata": {},
   "source": [
    "# Train"
   ]
  },
  {
   "cell_type": "code",
   "execution_count": null,
   "metadata": {},
   "outputs": [],
   "source": [
    "max_step = 100000\n",
    "batch_size = 128\n",
    "max_learning_rate = 0.0001\n",
    "warmup_step = 4000"
   ]
  },
  {
   "cell_type": "code",
   "execution_count": null,
   "metadata": {},
   "outputs": [],
   "source": [
    "def get_learning_rate(step: int) -> float:\n",
    "    rate = min(step ** -0.5, step * warmup_step ** -1.5) / warmup_step ** -0.5\n",
    "    return max_learning_rate * rate"
   ]
  },
  {
   "cell_type": "code",
   "execution_count": null,
   "metadata": {},
   "outputs": [],
   "source": [
    "with graph.as_default():\n",
    "    sess = tf.compat.v1.Session()\n",
    "    sess.run(tf.compat.v1.global_variables_initializer())\n",
    "    step = 0"
   ]
  },
  {
   "cell_type": "code",
   "execution_count": null,
   "metadata": {},
   "outputs": [],
   "source": [
    "with graph.as_default():\n",
    "    for batch in batch_generator.get_batch(batch_size=batch_size):\n",
    "        feed = {\n",
    "            **batch,\n",
    "            learning_rate: get_learning_rate(step + 1),\n",
    "        }\n",
    "        _, loss, acc, step, summary = sess.run([optimize_op, transformer.loss, transformer.acc, global_step, summary_op], feed_dict=feed)\n",
    "        summary_writer.add_summary(summary, step)\n",
    "        \n",
    "        if step % 100 == 0:\n",
    "            print(f'{step}: loss: {loss},\\t acc: {acc}')\n",
    "            saver.save(sess, ckpt_path, global_step=step)\n",
    "        if step == max_step:\n",
    "            break"
   ]
  },
  {
   "cell_type": "code",
   "execution_count": null,
   "metadata": {},
   "outputs": [],
   "source": []
  },
  {
   "cell_type": "code",
   "execution_count": null,
   "metadata": {},
   "outputs": [],
   "source": []
  },
  {
   "cell_type": "code",
   "execution_count": null,
   "metadata": {},
   "outputs": [],
   "source": []
  }
 ],
 "metadata": {
  "kernelspec": {
   "display_name": "Python 3",
   "language": "python",
   "name": "python3"
  },
  "language_info": {
   "codemirror_mode": {
    "name": "ipython",
    "version": 3
   },
   "file_extension": ".py",
   "mimetype": "text/x-python",
   "name": "python",
   "nbconvert_exporter": "python",
   "pygments_lexer": "ipython3",
   "version": "3.6.13"
  },
  "toc-showmarkdowntxt": false
 },
 "nbformat": 4,
 "nbformat_minor": 4
}
