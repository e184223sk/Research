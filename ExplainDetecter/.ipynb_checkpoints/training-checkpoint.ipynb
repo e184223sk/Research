{
 "cells": [
  {
   "cell_type": "markdown",
   "id": "a3069be3",
   "metadata": {},
   "source": [
    "Create Dateset"
   ]
  },
  {
   "cell_type": "code",
   "execution_count": 1,
   "id": "27c07865",
   "metadata": {},
   "outputs": [
    {
     "name": "stdout",
     "output_type": "stream",
     "text": [
      "<class 'str'>\n"
     ]
    }
   ],
   "source": [
    "from janome.tokenizer import Tokenizer\n",
    "import numpy as np\n",
    "\n",
    "# データ読み込み\n",
    "data_path = \"C:\\\\Users\\\\konolab\\\\Desktop\\\\Research\\\\ExplainDetecter\\\\source_5.txt\"\n",
    "file = open(data_path , \"r\" , encoding= \"UTF-8\")\n",
    "data = file.read()\n",
    "file.close()\n",
    "\n",
    "# 改行でデータを分割\n",
    "sentences = data.splitlines()\n",
    "\n",
    "# トークナイザを作る\n",
    "tokenizer = Tokenizer()\n",
    "\n",
    "# 単語ごとに分かれたデータを持っている\n",
    "word_list =[] # List[List[str]]\n",
    "print(type(sentences[0]))\n",
    "\n",
    "# 単語ごとに分割し、そのリストをword_listに追加\n",
    "for sentence in sentences:\n",
    "    tokens = tokenizer.tokenize(sentence)\n",
    "    tmp_words = []\n",
    "    for token in tokens:\n",
    "        # print(token.part_of_speech)\n",
    "        tmp_words.append(token.base_form)        \n",
    "    word_list.append(tmp_words)"
   ]
  },
  {
   "cell_type": "code",
   "execution_count": 2,
   "id": "b15f8266",
   "metadata": {},
   "outputs": [
    {
     "name": "stdout",
     "output_type": "stream",
     "text": [
      "['ASP', '.', 'NET', ' ', 'Core', 'の', 'MVC', 'の', 'アプリケーション', 'で', 'CSV', '出力', '機能', 'を', '実装', 'する', '機会', 'が', 'ある', 'た', 'ため', '、', 'メモ', 'として', '使用', 'する', 'た', 'もの', 'を', '残す', 'て', 'おく', 'たい', 'と', '思う', 'ます', '。', ',']\n"
     ]
    }
   ],
   "source": [
    "print(word_list[0])"
   ]
  },
  {
   "cell_type": "code",
   "execution_count": 3,
   "id": "2e90b08b",
   "metadata": {},
   "outputs": [
    {
     "name": "stderr",
     "output_type": "stream",
     "text": [
      "C:\\Users\\konolab\\anaconda3\\envs\\tensorflow-gpu\\lib\\site-packages\\ipykernel_launcher.py:46: VisibleDeprecationWarning: Creating an ndarray from ragged nested sequences (which is a list-or-tuple of lists-or-tuples-or ndarrays with different lengths or shapes) is deprecated. If you meant to do this, you must specify 'dtype=object' when creating the ndarray\n"
     ]
    }
   ],
   "source": [
    "import tensorflow as tf\n",
    "dataset_path = \"C:\\\\Users\\\\konolab\\\\Desktop\\\\Research\\\\ExplainDetecter\\\\learning.txt\"\n",
    "\n",
    "# datasetfile = np.load(dataset_path,delimiter = \"\\n\",dtype = \"unicode\")\n",
    "datasetfile = open(dataset_path , \"r\", encoding = \"UTF-8\")\n",
    "dataset = datasetfile.read()\n",
    "datasetfile.close()\n",
    "\n",
    "datasets = dataset.splitlines()\n",
    "\n",
    "datasets_nd = np.array(datasets)\n",
    "labels_before = [0] * 70\n",
    "labels_after = [1] * 30\n",
    "labels = labels_before + labels_after\n",
    "\n",
    "# データとラベルの結合\n",
    "DATASET = []\n",
    "for i in range(100):\n",
    "    DATASET.append([[datasets_nd[i]],[labels[i]]])\n",
    "\n",
    "DATASET_nd = np.array(DATASET)\n",
    "\n",
    "# シャッフル\n",
    "np.random.shuffle(DATASET_nd)\n",
    "\n",
    "\n",
    "# データとラベルの分離\n",
    "train_data = []\n",
    "train_label = []\n",
    "\n",
    "for j in range(100):\n",
    "    train_data.append(str(DATASET_nd[j,0]))\n",
    "    train_label.append(int(DATASET_nd[j,1]))\n",
    "    \n",
    "tokenizer_train = Tokenizer()\n",
    "train_data_list = []\n",
    "\n",
    "for data in train_data:\n",
    "    tokens = tokenizer_train.tokenize(data)\n",
    "    tmp_words = []\n",
    "    for token in tokens:\n",
    "        tmp_words.append(token.base_form)        \n",
    "    train_data_list.append(tmp_words)\n",
    "\n",
    "train_label_nd = np.array(train_label)\n",
    "train_data_nd= np.array(train_data_list)\n",
    "\n",
    "\n",
    "# 要素数が違うから変換できない感じ\n",
    "\n",
    "\n",
    "train_label_nd =np.asarray(train_label_nd).astype(np.float32)\n"
   ]
  },
  {
   "cell_type": "code",
   "execution_count": 4,
   "id": "e578fb96",
   "metadata": {},
   "outputs": [
    {
     "name": "stdout",
     "output_type": "stream",
     "text": [
      "[\"['\", 'MainPage', '.', 'xaml', '.', 'cs', 'から', 'ランタイムコンポーネント', '側', 'に', 'webView', 'へ', 'の', '参照', 'を', '渡す', 'て', 'おく', 'て', '、', 'ランタイムコンポーネント', '側', 'から', 'InvokeScriptAsync', 'する', 'と', 'ystem', '.', 'Exception', ' ', 'とか', ' ', 'System', '.', 'UnauthorizedAccessException', ' ', 'に', 'なる', '。', \"']\"]\n",
      "(100,)\n",
      "[\"['\", 'MainPage', '.', 'xaml', '.', 'cs', 'から', 'ランタイムコンポーネント', '側', 'に', 'webView', 'へ', 'の', '参照', 'を', '渡す', 'て', 'おく', 'て', '、', 'ランタイムコンポーネント', '側', 'から', 'InvokeScriptAsync', 'する', 'と', 'ystem', '.', 'Exception', ' ', 'とか', ' ', 'System', '.', 'UnauthorizedAccessException', ' ', 'に', 'なる', '。', \"']\"]\n",
      "[\"['\", '既に', 'DI', 'を', '使う', '倒す', 'て', 'いる', '方', 'に', 'は', '今更', 'だ', '内容', 'か', 'と', '思う', 'ます', 'が', '、', '私', 'の', 'よう', 'に', '古い', 'システム', 'の', 'メンテナンス', 'を', 'する', 'て', 'いる', 'た', '人', 'に', 'は', '有用', 'か', 'と', '思う', 'ます', \"']\"]\n",
      "[\"['\", '次', 'は', 'モジュール', 'で', ' ', '前回', '作成', 'する', 'た', ' ', '\"', 'Hello', ' ', 'World', '!\"', ' ', 'する', 'てる', 'た', 'やつ', 'を', ' ', 'View', ' ', 'を', '返す', 'よう', 'に', '変更', 'する', 'ます', '。', \"']\"]\n",
      "[\"['\", 'クライアント', '側', 'は', 'Rpc', 'で', '来る', 'た', 'ホスト', 'の', '時刻', 'を', '元', 'に', '、', '通信', 'ラグ', 'を', '計算', 'する', 'ます', '。', \"']\"]\n",
      "[\"['\", 'この', 'クラス', 'に', '線分', 'を', '囲う', '矩形', 'の', '左上', 'の', '点', 'を', 'LeftTop', 'プロパティ', 'として', '設ける', 'う', 'と', '思う', 'ます', '。', \"']\"]\n",
      "[\"['\", '無駄', 'だ', '空白', 'が', 'ある', '文字', '列', 'の', 'トリミング', 'を', '行う', 'こと', 'も', '可能', \"']\"]\n",
      "[\"['\", 'ResultType', '.', 'OK', ' ', 'という', '列挙', '型', 'が', '、', '\"', '1', '\"', ' ', 'では', 'ない', ' ', '\"', 'OK', '\"', 'という', '文字', 'で', 'シリアル', '化', 'できる', 'よう', 'に', 'なる', 'ます', '。', \"']\"]\n",
      "[\"['\", 'global', ' ', 'using', 'を', '使用', 'する', 'と', '、', 'プロジェクト', '全体', 'の', '使用', 'が', '可能', 'に', 'なる', '、', '各', 'ファイル', 'を', '書き込む', '必要', 'が', 'なくなる', 'ます', '。', \"']\"]\n",
      "[\"['\", 'そこ', 'で', '、', 'これ', 'まで', 'は', 'xUnit', 'テスト', 'を', '使用', 'する', 'て', 'いる', 'た', 'の', 'です', 'が', '、', '異動', '後', 'の', '部署', 'は', 'NUnit', 'テスト', 'を', '使用', 'する', 'て', 'いる', 'と', 'の', 'こと', 'だ', 'た', 'ので', '、', '違い', 'やら', '書き方', 'やら', 'が', 'ちょっと', '気', 'に', 'なる', '調べる', 'て', 'みる', 'ます', 'た', \"']\"]\n",
      "[\"['\", 'これ', 'について', 'は', 'YamlDotNet', 'の', '3', '.', '8', '.', '0', 'で', 'は', '解消', 'する', 'て', 'いる', 'よう', 'です', '！', \"']\"]\n",
      "[\"['\", 'Nancy', '.', 'NancyModule', ' ', 'を', '継承', 'する', 'た', 'クラス', 'を', '作成', 'する', 'て', '、', 'GET', 'リクエスト', 'する', 'れる', 'た', ' ', '\"', 'Hello', ' ', 'World', '!\"', ' ', 'を', '返す', 'よう', 'に', 'ルート', 'を', '定義', 'する', 'ます', '。', \"']\"]\n",
      "[\"['\", 'out', '引数', 'で', '用いる', '変数', 'を', 'インライン', 'で', '宣言', 'する', '（', '値', 'も', '使える', '）', 'コーディング', 'として', '次', 'の', 'よう', 'だ', 'もの', 'も', 'ある', 'ます', '。', \"']\"]\n",
      "[\"['\", '実行', 'する', 'と', '、', '先ほど', '追加', 'する', 'た', '3', 'レコード', 'の', 'DisplayName', 'プロパティ', 'が', '標準', '出力', 'に', '出力', 'する', 'れる', '。', \"']\"]\n",
      "[\"['\", 'この', '実装', '方法', 'が', 'アンチ', 'パターン', 'で', 'は', 'ない', 'こと', '祈る', 'ます', \"']\"]\n",
      "[\"['\", '構造', '化', 'する', 'れる', 'て', 'いる', 'ない', 'シンプル', 'だ', '、', '文字', 'を', '出力', 'する', 'だけ', 'の', 'ログ', 'です', '。', \"']\"]\n",
      "[\"['\", 'Xamarin', '.', 'Media', 'を', 'using', 'する', '、', 'MediaPicker', 'インスタンス', 'を', '作成', '。', \"']\"]\n",
      "[\"['\", 'DbContext', 'クラス', 'を', '継承', 'する', 'た', 'クラス', 'を', '作成', 'する', '、', '「', 'OnConfiguring', '」', 'を', 'オーバーライド', 'する', 'ます', '。', \"']\"]\n",
      "[\"['\", 'Context', 'クラス', 'で', '状態', 'を', '管理', 'する', 'て', '（', 'セット', 'する', 'て', '）', '、', 'その', '状態', 'に', '応じる', 'た', '処理', 'が', '動く', 'て', 'いる', 'こと', 'が', '分かる', 'ます', '。', \"']\"]\n",
      "[\"['\", '画面', 'が', 'フォーカス', 'ロスト', 'する', 'た', 'タイミング', 'で', '対象', 'の', '画面', 'を', '閉じる', '必要', 'が', 'ある', '、', 'ハマる', 'た', 'ので', '備忘録', '用', 'に', \"']\"]\n",
      "[\"['\", 'IXLWorksheet', '.', 'RangeUsed', 'メソッド', 'は', '、', 'シート', '内', 'の', '使う', 'れる', 'て', 'いる', '範囲', 'のみ', 'を', '取得', 'する', '便利', 'だ', 'メソッド', '。', \"']\"]\n",
      "[\"['\", 'GET', ' ', '/', 'api', '/', 'HelloWorld', '/', 'で', '文字', '列', 'Hello', ' ', 'World', 'が', '返る', 'て', 'くる', 'API', 'を', '作る', 'ます', '。', \"']\"]\n",
      "[\"['\", 'enter', 'キー', 'を', '押す', 'たび', 'に', '、', 'FizzBuzz', 'メソッド', 'から', '得る', 'られる', '文字', '列', 'を', 'ひとつ', 'ずつ', '出力', 'する', 'て', 'いる', 'ます', '。', \"']\"]\n",
      "[\"['\", '既定', 'の', 'ログプロバイダ', 'を', '削除', 'する', 'たり', '、', '任意', 'の', 'ログプロバイダ', 'を', '追加', 'する', 'に', 'は', '、', 'IHostBuilder', '.', 'ConfigureLogging', ' ', 'メソッド', 'に', '実装', 'する', 'ます', '。', \"']\"]\n",
      "[\"['\", 'アプリ', 'の', 'Send', 'ボタン', 'を', '押す', 'たび', 'に', '、', '受け取る', 'た', 'コマンド', 'が', 'それぞれ', 'の', 'コンソール', 'に', '表示', 'する', 'れる', '。', \"']\"]\n",
      "[\"['\", 'アクティブ', 'だ', 'Editor', 'は', 'ActiveEditorTracker', '.', 'sharedTracker', '.', 'activeEditors', 'で', 'アクセス', 'できる', 'ので', '、', '以下', 'の', 'よう', 'に', '定義', 'する', 'て', 'Repaint', '()', 'する', 'ば', 'よい', 'です', 'ね', '。', \"']\"]\n",
      "[\"['\", 'SqlQuery', ' ', 'メソッド', 'を', '使う', 'こと', 'だ', '、', '生', 'の', 'SQL', 'クエリ', 'を', '直接', '指定', 'する', 'て', '実行', 'する', 'こと', 'も', 'できる', 'ます', '。', \"']\"]\n",
      "[\"['[\", 'メモ', '書き', \"]']\"]\n",
      "[\"['\", 'OnPostprocessBuild', '()', 'は', '、', 'XCode', 'ビルド', '直後', 'に', '呼ぶ', 'れる', 'イベント', 'です', '。', \"']\"]\n",
      "[\"['\", 'ちなみに', 'pos', 'は', 'Vector', '3', '型', 'です', 'が', 'Vector', '2', 'に', '代入', 'する', 'と', '勝手', 'に', 'z', 'が', '消す', 'れる', 'ので', '好都合', 'です', '。', \"']\"]\n",
      "[\"['\", 'Test', '1', 'クラス', 'の', 'GetString', 'メソッド', 'は', '引数', 'を', 'そのまま', '返却', 'する', '、', 'Test', '2', 'クラス', 'の', 'GetString', '2', 'メソッド', 'は', 'Test', '1', 'クラス', 'の', 'GetString', 'メソッド', 'を', '用いる', '。', 'て', '\"', 'GetString', '2', '\"', 'という', '文字', '列', 'を', '返却', 'する', 'ます', '。', \"']\"]\n",
      "[\"['\", 'App', '.', 'xaml', '.', 'cs', 'で', 'AddModule', 'する', 'とき', 'に', '、', 'モジュール', '同士', 'の', '依存', '関係', 'を', '明示', 'する', 'RealProxy', 'を', '用いる', 'て', 'Sample', '処理', 'の', '処理', '前', 'と', '処理', '後', 'に', 'ログ', 'を', '入力', 'する', 'サンプル', 'コード', 'です', '。', \"']\"]\n",
      "[\"['\", 'あくまで', '参考', 'として', 'ご覧', 'くださる', '。', \"']\"]\n",
      "[\"['\", '今回', 'は', 'それ', 'について', '調べる', 'た', 'ので', 'メモ', 'する', 'ます', \"']\"]\n",
      "[\"['\", 'ただ', '、', 'propInfo', '.', 'GetValue', 'メソッド', 'の', '戻り', 'は', 'object', 'から', 'int', 'へ', 'の', 'Unboxing', 'が', '発生', 'する', 'て', 'いる', 'し', '、', 'propInfo', '.', 'SetValue', 'メソッド', 'の', '第', '2', '引数', 'も', 'int', 'から', 'object', 'へ', 'の', 'Boxing', 'が', '発生', 'する', 'て', 'いる', '。', \"']\"]\n",
      "[\"['\", '複数', 'の', 'Origin', 'を', '許可', 'する', 'に', 'は', '.', 'WithOrigins', '()', 'に', '配列', 'で', 'URL', 'を', '指定', 'する', \"']\"]\n",
      "[\"['\", 'ちょっと', '詰まる', 'た', 'ので', '、', '色々', '調査', 'する', 'ます', 'た', '、', 'メモ', \"']\"]\n",
      "[\"['\", 'AcitionFilter', 'を', 'HttpConfiguration', 'に', '登録', 'する', 'と', '、', 'すべて', 'の', 'アクション', 'に', '適用', 'できる', 'ます', '。', \"']\"]\n",
      "[\"['\", 'FormatConvertedBitmap', 'により', 'Bgr', '24', 'に', '変換', 'する', 'た', 'ビット', 'マップ', 'を', 'OpenCvSharp', '.', 'Mat', 'に', '変換', 'する', 'て', 'ImShow', '()', 'する', 'て', 'いる', 'ます', '。', \"']\"]\n",
      "[\"['\", 'StringComparison', '.', 'OrdinalIgnoreCase', 'を', '用いる', 'と', '大文字', '小文字', 'を', '区別', 'する', 'ぬ', '、', 'かつ', 'カレントカルチャ', 'に', '依存', 'する', 'ない', '文字', '列', '比較', 'を', '行える', 'ます', '。', \"']\"]\n",
      "[\"['\", 'Azure', ' ', 'Cognitive', ' ', 'Services', ' ', 'の', ' ', 'Text', ' ', 'Analytics', ' ', 'API', ' ', 'を', '利用', 'する', 'た', ' ', 'NLP', ' ', 'アプリ', 'が', 'ある', 'ます', 'て', '、', 'どうも', '期待', '通り', 'に', '使える', 'ぬ', '、', '何', 'が', '原因', 'か', 'と', '探る', '一環', 'として', '、', '自分', 'で', 'も', '同', ' ', 'API', ' ', 'を', '試す', 'て', 'みる', 'こと', 'に', 'する', 'ます', 'た', \"']\"]\n",
      "[\"['\", 'つまり', 'SomeIntProperty', 'へ', 'の', '変更', 'は', 'someIntPropertyEntity', 'の', '値', 'の', '変更', 'に', 'なる', '、', 'ReactiveProperty', 'だ', 'ある', 'someIntPropertyEntity', 'の', '値', 'が', '変更', 'する', 'れる', 'た', '結果', 'SomeIntReactiveProperty', 'として', '発火', 'する', 'こと', 'に', 'なる', 'ます', '。', \"']\"]\n",
      "[\"['\", 'この', 'クラス', 'を', 'さらに', 'SQL', ' ', 'Server', 'の', 'データ', 'に', '変換', 'する', 'て', '書き込む', '。', \"']\"]\n",
      "[\"['\", 'MakeContentAppearAt', 'が', '先述', 'の', '\"', 'AR', ' ', 'Session', ' ', 'Origin', 'を', '動かす', 'て', '原点', 'と', '画像', 'マーカー', 'の', '位置', 'を', '合わせる', '処理', '\"', 'を', '実行', 'する', 'て', 'くれる', '関数', 'です', '。', \"']\"]\n",
      "[\"['\", 'App', '.', 'xaml', '.', 'cs', 'を', '以下', 'の', 'よう', 'に', '書き換える', '。', \"']\"]\n",
      "[\"['\", 'ポインタ', 'は', 'C', '#', 'で', 'は', 'あまる', 'みる', 'ない', 'です', 'が', '要するに', 'm', '_', 'firstChar', 'は', '先頭', 'アドレス', 'に', 'なる', 'て', 'いる', 'て', '、', 'そこ', 'から', 'm', '_', 'stringLength', '*', '2', 'バイト', 'の', '範囲', 'が', '文字', '列', 'の', '実態', 'という', 'こと', 'に', 'なる', 'ます', '。', \"']\"]\n",
      "[\"['\", 'ConfigureConventions', '()', ' ', 'を', 'オーバーライド', 'する', 'て', '処理', 'を', '追加', 'する', 'て', 'いる', 'ます', '。', \"']\"]\n",
      "[\"['\", 'start', 'で', '繰り返す', '文', 'を', '使う', '、', '各', 'マス', 'に', '石', 'を', '置く', '、', '\"', 'StoneManager', '\"', 'の', '\"', 'SetState', '\"', 'で', '\"', 'SetActive', '()\"', 'を', 'コントロール', 'する', '、', '最初', 'に', '置く', 'て', 'おく', 'たい', '石', 'に', 'は', '予め', '\"', 'eStoneState', '\"', 'を', '\"', 'BLACK', '\"', 'か', '\"', 'WHITE', '\"', 'に', 'する', 'て', 'おく', 'よう', '記述', 'する', 'て', 'おく', 'ば', '、', 'ゲーム', '開始', '時', 'に', '下記', 'の', '画像', 'の', 'よう', 'に', '石', 'が', '配置', 'する', 'れる', 'ます', '。', \"']\"]\n",
      "[\"['\", '0', '～', '100000', 'の', 'ランダム', 'だ', '整数', 'の', '入る', 'た', '要素', '数', '１', '０', '万', 'の', 'List', 'を', '宣言', 'する', 'て', 'その', '中', 'から', '最小', '値', 'を', '取得', '、', \"']\"]\n",
      "[\"['\", 'Arg', '0', ' ', 'に', ' ', 'MainWindow', ' ', 'が', 'バインド', 'する', 'れる', '、', ' ', 'EventTrigger', ' ', 'で', ' ', 'Load', ' ', 'イベント', '発生', '時', 'に', 'if', ' ', '(', 'Arg', '0', '.', 'ActualWidth', ' ', '>', ' ', 'Arg', '0', '.', 'ActualHeight', ')', ' ', '...', ' ', 'が', '実行', 'する', 'れる', 'ます', '。', \"']\"]\n",
      "[\"['\", 'スーパー', 'クラス', '(', 'Template', 'クラス', ')', 'の', 'Play', 'メソッド', 'にて', '朝', '昼夜', 'の', '処理', 'の', '流れ', 'を', '決める', 'ます', '。', \"']\"]\n",
      "[\"['\", 'その', '過程', 'で', '、', '誰か', 'が', ' ', '引数', 'に', ' ', 'null', ' ', 'を', '与える', 'て', 'は', 'いける', 'ない', 'メソッド', 'に', ' ', 'null', ' ', 'を', '与える', 'た', ' ', 'こと', 'で', '例外', 'が', 'スロー', 'する', 'れる', 'た', '。', \"']\"]\n",
      "[\"['\", '大雑把', 'に', '説明', 'する', 'と', '「', '1', '回', 'の', '処理', 'で', 'ここ', 'まで', 'やる', 'て', 'ね', '」', 'という', 'ブロック', 'に', 'なる', 'ます', '。', \"']\"]\n",
      "[\"['\", 'Button', 'に', 'は', '、', 'Clicked', 'という', 'パラメータ', 'が', 'ある', '、', 'そこ', 'に', 'delegate', 'を', '追加', 'する', 'て', 'いる', 'ます', '。', \"']\"]\n",
      "[\"['\", '今度', 'は', 'テクスチャ', 'として', '使う', '範囲', 'を', '黒', 'で', 'は', 'ない', '青', 'に', 'する', 'ため', 'に', 'TextureCoordinates', 'に', '入れる', '値', 'を', '[', '0', '-', '1', ']', 'から', '[', '1', '/', '8', '-', '7', '/', '8', ']', 'に', '変更', 'する', 'ます', '。', \"']\"]\n",
      "[\"['\", '関数', 'に', 'は', 'Public', 'で', 'は', '無い', 'private', 'の', '関数', 'も', '存在', 'する', 'ます', 'が', '、', 'UnityEngine', 'で', '定義', 'する', 'れる', 'た', 'class', 'を', '用いる', '場合', '、', '利用', 'できる', 'の', 'は', 'Public', 'のみ', 'に', 'なる', 'ます', '。', \"']\"]\n",
      "[\"['\", 'Singleton', 'クラス', 'は', 'フィールド', 'で', '初期', '化', 'する', '、', 'GetInstance', 'メソッド', '経由', 'で', '取得', 'する', 'ます', '。', \"']\"]\n",
      "[\"['\", '復元', 'ポイント', 'を', '有効', 'に', 'する', \"']\"]\n",
      "[\"['_\", 'reactivePropertyAA', 'と', '_', 'reactivePropertyBB', 'を', 'もつ', 'て', 'いる', '。', \"']\"]\n",
      "[\"['\", '調べる', '前', 'は', 'ARPlaneManager', 'に', 'RemovePlane', 'や', 'StopRecognition', 'など', 'が', '実装', 'する', 'れる', 'て', 'いる', 'こと', 'を', 'イメージ', 'する', 'て', 'ます', 'た', 'が', '見当たる', 'ます', 'ん', 'です', 'た', \"']\"]\n",
      "[\"['\", 'UWP', 'アプリ', 'から', 'シリアル', '通信', 'できる', 'よう', 'に', 'する', 'ため', 'に', '、', 'Package', '.', 'appxmanifest', 'に', 'DeviceCapability', 'を', '追加', 'する', 'ます', '。', \"']\"]\n",
      "[\"['\", 'StringComparison', '.', 'Ordinal', ' ', 'を', '用いる', 'て', '比較', 'する', 'こと', 'で', 'カレントカルチャ', 'に', '依存', 'する', 'ない', '文字', '列', '比較', 'を', '行う', 'こと', 'が', 'できる', 'ます', '。', \"']\"]\n",
      "[\"['\", 'if', '文', 'にて', '、', 'ContainsKey', 'が', 'false', 'だ', 'ある', '、', 'dictonary', 'の', '中身', 'を', '読み取る', '前', 'に', '判定', 'する', 'て', 'いる', \"']\"]\n",
      "[\"['\", 'もし', '変', 'だ', 'ところ', 'が', 'ある', 'た', '教える', 'て', '下さる', \"']\"]\n",
      "[\"['\", 'とりあえず', '、', '以下', 'の', 'コード', 'を', '見る', 'て', 'ほしい', \"']\"]\n",
      "[\"['\", 'この', 'System', '.', 'Windows', '.', 'Forms', '.', 'TextBox', '.', 'GetLineFromCharIndex', '(', 'Int', '32', ')', 'は', '論理', '行', 'で', 'は', 'ない', '画面', '上', 'の', '表示', '行', 'を', '返す', 'ます', '。', \"']\"]\n",
      "[\"['\", 'メンテナンス', 'する', 'の', 'は', '簡単', \"！']\"]\n",
      "[\"['\", '初めて', '使用', 'する', '際', 'に', 'いろいろ', 'と', 'わかる', 'ない', 'こと', 'が', '多い', 'た', 'ので', 'メモ', 'を', '残す', 'て', 'おく', 'ます', \"']\"]\n",
      "[\"['\", 'この', '記事', 'で', 'は', '、', '自分', 'が', '勉強', 'する', 'た', '復習', 'を', 'かねる', 'て', '、', 'ReactiveProperty', 'と', 'gong', '-', 'wpf', '-', 'dragdrop', 'を', '利用', 'する', 'た', '実装', 'を', '書く', 'せる', 'て', 'いただく', 'ます', \"']\"]\n",
      "[\"['\", 'あと', 'は', '、', 'FacebookClient', 'で', 'の', 'GetTaskAsync', '()', '呼び出し', '時', 'に', '上', 'で', '定義', 'する', 'た', 'AboutMeResult', 'クラス', 'を', '渡す', 'て', 'あげる', 'ます', '。', \"']\"]\n",
      "[\"['\", '描画', 'が', '完了', 'する', 'て', 'から', 'だ', 'ない', 'と', 'エラー', 'が', '出る', 'ので', '、', 'コルーチン', 'で', ' ', 'yield', ' ', 'return', ' ', 'new', ' ', 'WaitForEndOfFrame', '()', ' ', 'の', '後', 'に', '処理', 'する', 'か', '、', 'OnPostRender', ' ', '内', 'で', '行う', 'と', '良い', '。', \"']\"]\n",
      "[\"['\", 'Action', '名', '+', 'Async', '()', 'という', '名前', 'の', 'メソッド', 'が', '実行', 'する', 'れる', \"']\"]\n",
      "[\"['\", 'また', '、', '同時に', '間違い', 'など', 'も', '指摘', 'する', 'て', 'もらえる', 'と', '嬉しい', 'です', \"']\"]\n",
      "[\"['\", 'はじめ', 'は', '同じ', 'に', '見える', 'ます', 'た', 'が', 'よく', 'よく', '調べる', 'と', 'しっかり', 'と', '違い', 'が', 'ある', 'ます', 'た', \"']\"]\n",
      "[\"['\", 'ここ', 'で', 'は', 'ID', 'の', '値', 'が', '2', 'で', '割り切れる', 'か', 'どう', 'か', 'で', '判別', 'する', 'て', 'いる', 'ます', '。', \"']\"]\n",
      "[\"['\", 'GET', ' ', '/', 'api', '/', 'pruducts', 'の', 'よう', 'だ', 'エラー', 'レスポンス', 'を', '返す', 'ない', 'API', 'は', '任意', 'の', '型', 'を', '使う', 'の', 'が', '簡単', \"']\"]\n",
      "[\"['\", 'ただし', '、', 'これ', 'は', 'double', '型', 'で', '得る', 'られる', 'ため', '、', 'スライダー', 'と', '連動', 'する', 'たい', 'だ', 'float', '型', 'に', '変換', 'する', 'ない', 'と', 'いける', 'ない', 'ので', '注意', '。', \"']\"]\n",
      "[\"['\", 'Select', 'メソッド', 'に', 'は', '、', 'シーケンス', 'の', '各', '要素', 'に', 'インデックス', 'を', '付ける', 'て', '射影', 'する', '機能', 'が', 'ある', 'ので', 'それ', 'を', '利用', 'する', 'て', '、', 'インデックス', 'を', 'ブロック', 'の', '長い', 'さ', 'で', '割る', 'た', '値', 'を', 'キー', 'に', '、', '要素', 'の', '値', 'と', 'の', 'ペア', '（', 'KeyValuePair', '<', 'int', ',', ' ', 'T', '>', '型', '）', 'を', '生成', 'する', 'ます', '。', \"']\"]\n",
      "[\"['\", 'この', 'よう', 'に', 'なる', '理由', 'は', '、', 'dynamic', ' ', 'DynamA', '=', 'val', ';', '及び', 'dynamic', ' ', 'DynamB', '=', 'val', ';', 'は', '、', '共々', 'Val', 'の', 'コピー', 'を', 'ボクシング', 'する', 'て', 'いる', 'ので', '、', '片方', 'の', 'Value', 'を', '動かす', 'て', 'も', 'もう', '片方', 'が', '影響', 'を', '受ける', 'こと', 'は', '無い', '。', \"']\"]\n",
      "[\"['\", 'FinalizeMethod', 'に', 'Cube', 'を', '破壊', 'する', '処理', 'と', '、', 'おもむろに', 'Thread', 'の', 'Id', 'を', '出力', 'する', '処理', 'を', '追加', 'する', 'ます', 'た', '。', \"']\"]\n",
      "[\"['\", '今回', 'は', '夏休み', 'の', '自由', '研究', 'と', '称す', 'て', '7', 'SegLED', 'に', 'CPU', '使用', '率', 'を', '表示', 'する', 'て', 'みる', 'たい', 'と', '思う', 'ます', \"']\"]\n",
      "[\"['\", '以前', '転職', '活動', 'を', 'する', 'た', 'とき', 'に', '面接', '官', '（', 'たぶん', '現役', 'の', 'バリバリ', 'の', '技術', '屋', 'さん', '）', 'に', '「', 'ボクシング', 'って', '知る', 'て', 'いる', 'ます', 'か', '？', '」', 'と', '聞く', 'れる', 'て', 'スポーツ', 'の', 'ボクシング', 'しか', '頭', 'に', '浮かぶ', 'ない', 'た', 'こと', 'を', '思い出す', 'た', 'ので', 'お', '勉強', 'する', 'て', 'みる', 'ます', 'た', \"']\"]\n",
      "[\"['\", 'まずは', '問題', 'の', '条件', 'を', 'しっかり', 'を', '読む', 'で', '理解', 'する', 'こと', \"']\"]\n",
      "[\"['\", 'Null', 'チェック', 'を', 'する', 'た', '後', 'に', '、', 'source', 'が', 'よく', '使う', 'れる', '特定', 'の', '型', 'だ', 'た', '場合', 'に', 'は', '専用', 'の', 'IEnumerable', 'を', '返す', '、', 'そう', 'だ', 'ない', 'ば', '汎用', '的', 'だ', '実装', 'だ', 'ある', '。', 'SelectEnumerableIterator', 'を', '返す', 'という', '形', 'に', 'なる', 'て', 'いる', 'ます', '。', \"']\"]\n",
      "[\"['\", 'WireMock', '.', 'Net', 'という', 'HTTP', ' ', 'API', 'の', 'モックツール', 'を', '紹介', 'する', \"']\"]\n",
      "[\"['\", '変数', 't', 'が', 'ホスト', 'と', 'クライアント', 'で', '一致', 'する', 'ば', '完全', 'だ', '位置', '同期', 'と', 'なる', 'ます', '。', \"']\"]\n",
      "[\"['\", '上記', 'の', 'HomeController', 'で', '設定', 'する', 'た', 'メッセージ', 'を', '表示', 'する', 'ます', '。', \"']\"]\n",
      "[\"['\", '主', 'キー', 'id', 'は', 'DogConrtroller', 'の', 'おかげ', 'で', '自動', 'で', 'インクリメント', 'する', 'れる', 'ます', '。', \"']\"]\n",
      "[\"['\", 'DapperExtension', 'の', 'ClassMap', 'を', '使う', '、', '大文字', '小文字', 'と', 'アンダー', 'バー', 'の', 'マッピング', 'を', '行う', '。', \"']\"]\n",
      "[\"['\", 'Profiler', '.', 'BeginSample', '/', 'EndSample', 'で', '、', '最小', '値', 'を', '取得', 'する', '部分', 'だけ', 'を', '計測', 'する', 'て', 'いる', 'ます', '。', \"']\"]\n",
      "[\"['\", 'なお', '、', '代わり', 'に', 'SetClipSamplePosition', '()', 'や', 'LoopClip', '()', 'を', '同時に', '使う', 'こと', 'で', '所望', 'の', '挙動', 'が', '得る', 'られる', 'ます', '。', \"']\"]\n",
      "[\"['\", 'C', '#', 'で', 'csv', 'ファイル', 'を', '扱う', 'モジュール', 'だ', 'ある', 'CsvHelper', 'を', '使う', 'て', '読み込む', 'で', 'みる', 'た', '。', \"']\"]\n",
      "[\"['\", 'まずは', 'コンス', 'トラクタ', 'の', '上', 'の', '部分', 'で', '変数', '宣言', 'を', 'する', 'て', '、', '認証', 'に', '必要', 'だ', '４つ', 'の', '情報', 'を', 'それぞれ', '代入', 'する', 'て', 'おく', 'ます', '。', \"']\"]\n",
      "[\"['\", 'GUI', 'を', '勉強', 'する', '始める', 'た', '頃', 'に', '悩む', 'だ', 'ので', '、', '記録', 'として', 'ここ', 'に', '残す', 'ます', \"']\"]\n",
      "[\"['\", 'インスタンス', 'を', '複数', '生成', 'する', 'て', 'も', '、', 'その', 'インスタンス', 'が', '持つ', 'static', 'メソッド', 'の', '処理', 'は', 'どの', 'インスタンス', 'も', '同じ', '動作', 'に', 'なる', 'ます', '。', \"']\"]\n",
      "[\"['\", 'ダイヤ', 'ログ', 'は', '、', 'モデル', 'の', 'Observable', 'を', 'もと', 'に', 'ToReactiveProperty', 'する', 'て', 'つくる', 'れる', 'た', '。', \"']\"]\n",
      "[\"['\", '各', 'プロパティ', 'に', 'は', 'Json', '時', 'の', 'プロパティ', 'と', 'Parse', '先', 'を', '定義', 'する', 'て', 'あげる', 'ます', '。', \"']\"]\n",
      "[\"['\", 'ゲーム', '制作', 'を', 'する', 'て', 'いる', 'と', '何かと', '制限', '時間', 'を', 'つける', 'たい', 'と', '思う', '機会', 'は', '多い', 'の', 'だ', 'は', 'ない', 'です', 'う', 'か', \"']\"]\n",
      "[\"['\", '数値', '型', 'プロパティ', 'の', 'フィールド', 'に', '英字', 'を', '含める', 'と', '、', 'CsvHelper', '.', 'TypeConversion', '.', 'CsvTypeConverterException', '例外', 'が', '発生', 'する', '。', \"']\"]\n",
      "[\"['\", '恥ずかしながら', '今', 'まで', 'は', 'ViewData', 'や', 'ViewBag', 'を', '利用', 'する', 'て', 'Controller', 'から', 'View', 'へ', 'データ', 'を', '渡す', '方法', 'しか', '知る', 'ます', 'ん', 'です', 'た', \"']\"]\n",
      "[\"['\", 'Enum', 'を', '毎回', '定義', 'する', 'の', 'が', 'めんどう', 'だ', 'シチュエーション', 'が', 'ある', 'ます', 'た', \"']\"]\n"
     ]
    }
   ],
   "source": [
    "print(train_data_nd[0])\n",
    "print(train_label_nd.shape)\n",
    "\n",
    "tmp_count = 0\n",
    "for x in range(100):\n",
    "    if tmp_count < len(train_data_list[x]):\n",
    "        tmp_count = len(train_data_list[x])\n",
    "\n",
    "for x in range(100):\n",
    "    for y in range(tmp_count - len(train_data_list[x])):\n",
    "        train_data_list.append(\" \")\n",
    "    \n",
    "for x in range(100):\n",
    "    print(train_data_list[x])\n",
    "    \n",
    "\n",
    "# train_data_tensor =tf.data.Dataset.from_tensor_slices(train_data_nd)\n",
    "# train_label_tensor =tf.data.Dataset.from_tensor_slices(train_label_nd)\n",
    "# train_label_tensor = tf.convert_to_tensor(train_label_list,dtype = np.int32)\n",
    "\n",
    "# print(train_data_tensor[0])\n",
    "# print(train_label_tensor[0])"
   ]
  },
  {
   "cell_type": "code",
   "execution_count": 5,
   "id": "54727e69",
   "metadata": {
    "scrolled": false
   },
   "outputs": [
    {
     "name": "stderr",
     "output_type": "stream",
     "text": [
      "C:\\Users\\konolab\\anaconda3\\envs\\tensorflow-gpu\\lib\\site-packages\\gensim\\similarities\\__init__.py:15: UserWarning: The gensim.similarities.levenshtein submodule is disabled, because the optional Levenshtein package <https://pypi.org/project/python-Levenshtein/> is unavailable. Install Levenhstein (e.g. `pip install python-Levenshtein`) to suppress this warning.\n",
      "  warnings.warn(msg)\n"
     ]
    }
   ],
   "source": [
    "\n",
    "from gensim.models import Word2Vec\n",
    "\n",
    "from keras.preprocessing.text import Tokenizer\n",
    "import numpy as np\n",
    "import spacy\n",
    "import sys\n",
    "count = 0\n",
    "\n",
    "for i in range(100):\n",
    "    if count < len(train_data_nd[i]):\n",
    "        count = len(train_data_nd[i])\n",
    "    train_data_nd[i] = np.array(train_data_list[0])\n",
    "    \n",
    "# w2v_2 = Word2Vec(train_data_list,vector_size = 64,min_count = 5, window = 5,epochs = 5)\n",
    "    \n",
    "# tokenizer_keras2 = Tokenizer()\n",
    "# tokenizer_keras2.fit_on_texts(train_data_list)\n",
    "# train_mat = tokenizer_keras2.texts_to_matrix(train_data_list,\"tfidf\")\n",
    "# train_mat = np.resize(train_mat,(100,))\n",
    "# train_label_nd = np.resize(train_label_nd,(100,))\n",
    "\n",
    "# tokenizer_keras2.fit_on_texts(train_data_list)\n",
    "# word_index2 = tokenizer_keras2.word_index\n",
    "# num_words2 = len(word_index2)\n",
    "# train_data_mat = np.zeros((100,))\n",
    "# for word, i in word_index2.items():\n",
    "#     if word in w2v_2.wv.index_to_key:\n",
    "#         train_data_mat[i] = w2v_2.wv[word]\n",
    "# for i in range(100):\n",
    "#     train_data_nd[i] = np.resize(train_data_nd[i],count)\n"
   ]
  },
  {
   "cell_type": "code",
   "execution_count": 6,
   "id": "6854b74b",
   "metadata": {},
   "outputs": [],
   "source": [
    "# print(train_data_list[12])\n",
    "# print(\"\\n\")\n",
    "\n",
    "# print(train_data_nd[12])\n",
    "\n",
    "\n",
    "# tmp_list = tf.convert_to_tensor(train_data_list,dtype = \"float32\")\n",
    "\n",
    "# train_data_list = tf.ragged.constant(train_data_list)\n",
    "# train_label_nd = tf.convert_to_tensor(train_label_nd,dtype = \"float32\")\n",
    "# tmp_list = tf.convert_to_tensor(train_data_list,dtype = \"float32\" )\n",
    "\n",
    "\n",
    "\n",
    "# print(type(train_data_list ))\n",
    "# print(type(train_label_nd))"
   ]
  },
  {
   "cell_type": "raw",
   "id": "1267f5bb",
   "metadata": {},
   "source": []
  },
  {
   "cell_type": "markdown",
   "id": "db4d647c",
   "metadata": {},
   "source": [
    "Word2Vec"
   ]
  },
  {
   "cell_type": "code",
   "execution_count": null,
   "id": "73d7acda",
   "metadata": {},
   "outputs": [],
   "source": [
    "\n"
   ]
  },
  {
   "cell_type": "code",
   "execution_count": 8,
   "id": "c1d10279",
   "metadata": {},
   "outputs": [],
   "source": [
    "\n",
    "w2v_size = 64\n",
    "\n",
    "# iter:機械学習の繰り返し回数（デフォルトは５）十分に学習できていないときに調整\n",
    "\n",
    "# Word2Vecの学習　ここで\n",
    "w2v = Word2Vec(word_list,vector_size = w2v_size,min_count = 5, window = 5,epochs = 5)\n",
    "\n",
    "#  words = list(w2v.wv.index_to_key)\n",
    "\n",
    "\n",
    "# word_index = {key:int(key) for key in w2v.wv.key_to_index}\n",
    "# word_index['0'] = 0\n",
    "# emb_mat = get_embedding_matrix(w2v , word_index)\n",
    "# emb.mat.shape\n",
    "\n",
    "tokenizer_keras = Tokenizer()\n",
    "tokenizer_keras.fit_on_texts(word_list)\n",
    "word_index = tokenizer_keras.word_index\n",
    "num_words = len(word_index)\n",
    "embedding_matrix = np.zeros((num_words+1, 64))\n",
    "for word, i in word_index.items():\n",
    "    if word in w2v.wv.index_to_key:\n",
    "        embedding_matrix[i] = w2v.wv[word]\n",
    "\n",
    "\n"
   ]
  },
  {
   "cell_type": "code",
   "execution_count": 9,
   "id": "bab318ae",
   "metadata": {},
   "outputs": [
    {
     "name": "stdout",
     "output_type": "stream",
     "text": [
      "['PC', '単体', 'で', 'COM', 'ポート', 'の', '接続', 'テスト', 'を', 'する', 'ため', 'に', '、', 'com', '0', 'com', 'を', 'インストール', 'する', '「', 'com', '0', 'com', '」', 'で', 'Google', '検索', '(.', 'jp', ')', 'する', 'と', '、', 'この', '記事', 'が', '1', '番目', 'に', 'ヒット', 'する']\n"
     ]
    }
   ],
   "source": [
    "print(word_list[5])"
   ]
  },
  {
   "cell_type": "code",
   "execution_count": 10,
   "id": "41564dfe",
   "metadata": {},
   "outputs": [],
   "source": [
    "\n",
    "from keras.layers import Embedding\n",
    "\n",
    "def get_embedding_matrix(model , word_index):\n",
    "    embedding_matrix = np.zeros((max(list(word_index.values())) + 1, model.vector_size),dtype = \"float32\")\n",
    "    \n",
    "    for word , labale in word_index.items():\n",
    "        try:\n",
    "            embedding_matrix[label] = model.wv[word]\n",
    "        except KeyError:\n",
    "            pass\n",
    "    return embedding_matrix\n",
    "    "
   ]
  },
  {
   "cell_type": "code",
   "execution_count": 11,
   "id": "82bd669b",
   "metadata": {},
   "outputs": [
    {
     "data": {
      "text/plain": [
       "<keras.layers.embeddings.Embedding at 0x17c983f1160>"
      ]
     },
     "execution_count": 11,
     "metadata": {},
     "output_type": "execute_result"
    }
   ],
   "source": [
    "num_words,w2v_size = embedding_matrix.shape\n",
    "\n",
    "Embedding(num_words , w2v_size,\n",
    "         weights=[embedding_matrix],\n",
    "         input_length=128,\n",
    "         trainable=False)\n",
    "\n"
   ]
  },
  {
   "cell_type": "markdown",
   "id": "7b471b67",
   "metadata": {},
   "source": [
    "LSTM"
   ]
  },
  {
   "cell_type": "code",
   "execution_count": 12,
   "id": "7b4b1dcc",
   "metadata": {},
   "outputs": [
    {
     "name": "stdout",
     "output_type": "stream",
     "text": [
      "64450\n",
      "64\n"
     ]
    }
   ],
   "source": [
    "print(num_words)\n",
    "print(w2v_size)"
   ]
  },
  {
   "cell_type": "code",
   "execution_count": 13,
   "id": "83d1ca38",
   "metadata": {},
   "outputs": [
    {
     "name": "stdout",
     "output_type": "stream",
     "text": [
      "4815\n",
      "Model: \"sequential\"\n",
      "_________________________________________________________________\n",
      "Layer (type)                 Output Shape              Param #   \n",
      "=================================================================\n",
      "embedding_1 (Embedding)      (None, 4815, 64)          4124800   \n",
      "_________________________________________________________________\n",
      "lstm (LSTM)                  (None, 128)               98816     \n",
      "_________________________________________________________________\n",
      "dense (Dense)                (None, 8)                 1032      \n",
      "_________________________________________________________________\n",
      "activation (Activation)      (None, 8)                 0         \n",
      "=================================================================\n",
      "Total params: 4,224,648\n",
      "Trainable params: 99,848\n",
      "Non-trainable params: 4,124,800\n",
      "_________________________________________________________________\n"
     ]
    },
    {
     "ename": "ValueError",
     "evalue": "Failed to find data adapter that can handle input: (<class 'list'> containing values of types {\"<class 'str'>\", '(<class \\'list\\'> containing values of types {\"<class \\'str\\'>\"})'}), <class 'numpy.ndarray'>",
     "output_type": "error",
     "traceback": [
      "\u001b[1;31m---------------------------------------------------------------------------\u001b[0m",
      "\u001b[1;31mValueError\u001b[0m                                Traceback (most recent call last)",
      "\u001b[1;32m<ipython-input-13-8ff4146b6fac>\u001b[0m in \u001b[0;36m<module>\u001b[1;34m\u001b[0m\n\u001b[0;32m     24\u001b[0m              \u001b[0moptimizer\u001b[0m\u001b[1;33m=\u001b[0m\u001b[1;34m'sgd'\u001b[0m\u001b[1;33m,\u001b[0m\u001b[1;33m\u001b[0m\u001b[1;33m\u001b[0m\u001b[0m\n\u001b[0;32m     25\u001b[0m              metrics=['accuracy'])\n\u001b[1;32m---> 26\u001b[1;33m \u001b[0mmodel\u001b[0m\u001b[1;33m.\u001b[0m\u001b[0mfit\u001b[0m\u001b[1;33m(\u001b[0m\u001b[0mx\u001b[0m \u001b[1;33m=\u001b[0m \u001b[0mtrain_data_list\u001b[0m\u001b[1;33m,\u001b[0m \u001b[0my\u001b[0m \u001b[1;33m=\u001b[0m \u001b[0mtrain_label_nd\u001b[0m\u001b[1;33m,\u001b[0m\u001b[0mbatch_size\u001b[0m\u001b[1;33m=\u001b[0m \u001b[1;36m32\u001b[0m \u001b[1;33m,\u001b[0m \u001b[0mepochs\u001b[0m \u001b[1;33m=\u001b[0m \u001b[1;36m5\u001b[0m\u001b[1;33m)\u001b[0m\u001b[1;33m\u001b[0m\u001b[1;33m\u001b[0m\u001b[0m\n\u001b[0m\u001b[0;32m     27\u001b[0m \u001b[1;33m\u001b[0m\u001b[0m\n\u001b[0;32m     28\u001b[0m \u001b[1;31m#  データセット読み込んで学習してみよう！\u001b[0m\u001b[1;33m\u001b[0m\u001b[1;33m\u001b[0m\u001b[1;33m\u001b[0m\u001b[0m\n",
      "\u001b[1;32m~\\anaconda3\\envs\\tensorflow-gpu\\lib\\site-packages\\keras\\engine\\training.py\u001b[0m in \u001b[0;36mfit\u001b[1;34m(self, x, y, batch_size, epochs, verbose, callbacks, validation_split, validation_data, shuffle, class_weight, sample_weight, initial_epoch, steps_per_epoch, validation_steps, validation_batch_size, validation_freq, max_queue_size, workers, use_multiprocessing)\u001b[0m\n\u001b[0;32m   1146\u001b[0m           \u001b[0muse_multiprocessing\u001b[0m\u001b[1;33m=\u001b[0m\u001b[0muse_multiprocessing\u001b[0m\u001b[1;33m,\u001b[0m\u001b[1;33m\u001b[0m\u001b[1;33m\u001b[0m\u001b[0m\n\u001b[0;32m   1147\u001b[0m           \u001b[0mmodel\u001b[0m\u001b[1;33m=\u001b[0m\u001b[0mself\u001b[0m\u001b[1;33m,\u001b[0m\u001b[1;33m\u001b[0m\u001b[1;33m\u001b[0m\u001b[0m\n\u001b[1;32m-> 1148\u001b[1;33m           steps_per_execution=self._steps_per_execution)\n\u001b[0m\u001b[0;32m   1149\u001b[0m \u001b[1;33m\u001b[0m\u001b[0m\n\u001b[0;32m   1150\u001b[0m       \u001b[1;31m# Container that configures and calls `tf.keras.Callback`s.\u001b[0m\u001b[1;33m\u001b[0m\u001b[1;33m\u001b[0m\u001b[1;33m\u001b[0m\u001b[0m\n",
      "\u001b[1;32m~\\anaconda3\\envs\\tensorflow-gpu\\lib\\site-packages\\keras\\engine\\data_adapter.py\u001b[0m in \u001b[0;36mget_data_handler\u001b[1;34m(*args, **kwargs)\u001b[0m\n\u001b[0;32m   1381\u001b[0m   \u001b[1;32mif\u001b[0m \u001b[0mgetattr\u001b[0m\u001b[1;33m(\u001b[0m\u001b[0mkwargs\u001b[0m\u001b[1;33m[\u001b[0m\u001b[1;34m\"model\"\u001b[0m\u001b[1;33m]\u001b[0m\u001b[1;33m,\u001b[0m \u001b[1;34m\"_cluster_coordinator\"\u001b[0m\u001b[1;33m,\u001b[0m \u001b[1;32mNone\u001b[0m\u001b[1;33m)\u001b[0m\u001b[1;33m:\u001b[0m\u001b[1;33m\u001b[0m\u001b[1;33m\u001b[0m\u001b[0m\n\u001b[0;32m   1382\u001b[0m     \u001b[1;32mreturn\u001b[0m \u001b[0m_ClusterCoordinatorDataHandler\u001b[0m\u001b[1;33m(\u001b[0m\u001b[1;33m*\u001b[0m\u001b[0margs\u001b[0m\u001b[1;33m,\u001b[0m \u001b[1;33m**\u001b[0m\u001b[0mkwargs\u001b[0m\u001b[1;33m)\u001b[0m\u001b[1;33m\u001b[0m\u001b[1;33m\u001b[0m\u001b[0m\n\u001b[1;32m-> 1383\u001b[1;33m   \u001b[1;32mreturn\u001b[0m \u001b[0mDataHandler\u001b[0m\u001b[1;33m(\u001b[0m\u001b[1;33m*\u001b[0m\u001b[0margs\u001b[0m\u001b[1;33m,\u001b[0m \u001b[1;33m**\u001b[0m\u001b[0mkwargs\u001b[0m\u001b[1;33m)\u001b[0m\u001b[1;33m\u001b[0m\u001b[1;33m\u001b[0m\u001b[0m\n\u001b[0m\u001b[0;32m   1384\u001b[0m \u001b[1;33m\u001b[0m\u001b[0m\n\u001b[0;32m   1385\u001b[0m \u001b[1;33m\u001b[0m\u001b[0m\n",
      "\u001b[1;32m~\\anaconda3\\envs\\tensorflow-gpu\\lib\\site-packages\\keras\\engine\\data_adapter.py\u001b[0m in \u001b[0;36m__init__\u001b[1;34m(self, x, y, sample_weight, batch_size, steps_per_epoch, initial_epoch, epochs, shuffle, class_weight, max_queue_size, workers, use_multiprocessing, model, steps_per_execution, distribute)\u001b[0m\n\u001b[0;32m   1135\u001b[0m       \u001b[0mself\u001b[0m\u001b[1;33m.\u001b[0m\u001b[0m_steps_per_execution_value\u001b[0m \u001b[1;33m=\u001b[0m \u001b[0msteps_per_execution\u001b[0m\u001b[1;33m.\u001b[0m\u001b[0mnumpy\u001b[0m\u001b[1;33m(\u001b[0m\u001b[1;33m)\u001b[0m\u001b[1;33m.\u001b[0m\u001b[0mitem\u001b[0m\u001b[1;33m(\u001b[0m\u001b[1;33m)\u001b[0m\u001b[1;33m\u001b[0m\u001b[1;33m\u001b[0m\u001b[0m\n\u001b[0;32m   1136\u001b[0m \u001b[1;33m\u001b[0m\u001b[0m\n\u001b[1;32m-> 1137\u001b[1;33m     \u001b[0madapter_cls\u001b[0m \u001b[1;33m=\u001b[0m \u001b[0mselect_data_adapter\u001b[0m\u001b[1;33m(\u001b[0m\u001b[0mx\u001b[0m\u001b[1;33m,\u001b[0m \u001b[0my\u001b[0m\u001b[1;33m)\u001b[0m\u001b[1;33m\u001b[0m\u001b[1;33m\u001b[0m\u001b[0m\n\u001b[0m\u001b[0;32m   1138\u001b[0m     self._adapter = adapter_cls(\n\u001b[0;32m   1139\u001b[0m         \u001b[0mx\u001b[0m\u001b[1;33m,\u001b[0m\u001b[1;33m\u001b[0m\u001b[1;33m\u001b[0m\u001b[0m\n",
      "\u001b[1;32m~\\anaconda3\\envs\\tensorflow-gpu\\lib\\site-packages\\keras\\engine\\data_adapter.py\u001b[0m in \u001b[0;36mselect_data_adapter\u001b[1;34m(x, y)\u001b[0m\n\u001b[0;32m    977\u001b[0m         \u001b[1;34m\"Failed to find data adapter that can handle \"\u001b[0m\u001b[1;33m\u001b[0m\u001b[1;33m\u001b[0m\u001b[0m\n\u001b[0;32m    978\u001b[0m         \"input: {}, {}\".format(\n\u001b[1;32m--> 979\u001b[1;33m             _type_name(x), _type_name(y)))\n\u001b[0m\u001b[0;32m    980\u001b[0m   \u001b[1;32melif\u001b[0m \u001b[0mlen\u001b[0m\u001b[1;33m(\u001b[0m\u001b[0madapter_cls\u001b[0m\u001b[1;33m)\u001b[0m \u001b[1;33m>\u001b[0m \u001b[1;36m1\u001b[0m\u001b[1;33m:\u001b[0m\u001b[1;33m\u001b[0m\u001b[1;33m\u001b[0m\u001b[0m\n\u001b[0;32m    981\u001b[0m     raise RuntimeError(\n",
      "\u001b[1;31mValueError\u001b[0m: Failed to find data adapter that can handle input: (<class 'list'> containing values of types {\"<class 'str'>\", '(<class \\'list\\'> containing values of types {\"<class \\'str\\'>\"})'}), <class 'numpy.ndarray'>"
     ]
    }
   ],
   "source": [
    "\n",
    "from keras.models import Sequential\n",
    "import pandas as pd\n",
    "from tensorflow.keras.layers import LSTM\n",
    "from keras.layers import Activation, Dense\n",
    "\n",
    "\n",
    "\n",
    "pd.DataFrame(word_list)\n",
    "max_len = max(map(len,word_list))\n",
    "print(max_len)\n",
    "# pd.DataFrame(word_list)\n",
    "\n",
    "num_words, w2v_size = embedding_matrix.shape\n",
    "\n",
    "model = Sequential()\n",
    "model.add(Embedding(num_words,w2v_size, weights = [embedding_matrix], input_length=max_len,trainable=False))\n",
    "# model.add(Embedding(num_words,w2v_size, weights = [embedding_matrix], input_length=8,trainable=False))\n",
    "model.add(LSTM(128,input_shape=(100,),return_sequences=False))\n",
    "model.add(Dense(8))\n",
    "model.add(Activation(\"sigmoid\"))\n",
    "\n",
    "model.summary()\n",
    "model.compile(loss='binary_crossentropy',\n",
    "             optimizer='sgd',\n",
    "             metrics=['accuracy'])\n",
    "model.fit(x = train_data_list, y = train_label_nd,batch_size= 32 , epochs = 5)\n",
    "\n",
    "#  データセット読み込んで学習してみよう！"
   ]
  }
 ],
 "metadata": {
  "kernelspec": {
   "display_name": "Python 3",
   "language": "python",
   "name": "python3"
  },
  "language_info": {
   "codemirror_mode": {
    "name": "ipython",
    "version": 3
   },
   "file_extension": ".py",
   "mimetype": "text/x-python",
   "name": "python",
   "nbconvert_exporter": "python",
   "pygments_lexer": "ipython3",
   "version": "3.6.13"
  }
 },
 "nbformat": 4,
 "nbformat_minor": 5
}
