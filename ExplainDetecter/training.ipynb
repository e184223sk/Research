{
 "cells": [
  {
   "cell_type": "code",
   "execution_count": null,
   "id": "ff7ad1f7",
   "metadata": {},
   "outputs": [],
   "source": []
  },
  {
   "cell_type": "markdown",
   "id": "a3069be3",
   "metadata": {},
   "source": [
    "Create Dateset"
   ]
  },
  {
   "cell_type": "code",
   "execution_count": 14,
   "id": "2e90b08b",
   "metadata": {},
   "outputs": [
    {
     "name": "stdout",
     "output_type": "stream",
     "text": [
      "名詞,代名詞,一般,*\n",
      "助詞,係助詞,*,*\n",
      "名詞,一般,*,*\n",
      "助詞,格助詞,一般,*\n",
      "動詞,自立,*,*\n",
      "接続詞,*,*,*\n",
      "名詞,一般,*,*\n",
      "助詞,格助詞,一般,*\n",
      "動詞,自立,*,*\n",
      "副詞,助詞類接続,*,*\n",
      "名詞,一般,*,*\n",
      "助詞,格助詞,一般,*\n",
      "動詞,自立,*,*\n",
      "助詞,連体化,*,*\n",
      "名詞,一般,*,*\n",
      "助詞,格助詞,一般,*\n",
      "[['私', 'は', '空', 'を', '飛ぶ'], ['もしくは', '海', 'を', '歩く'], ['さらに', '地中', 'を', '走る'], ['の'], ['上', 'を']]\n"
     ]
    }
   ],
   "source": [
    "from janome.tokenizer import Tokenizer\n",
    "\n",
    "# データ読み込み\n",
    "data_path = \"\"\n",
    "file = open(data_path , \"r\" , encoding= \"UTF-8\")\n",
    "data = file.read()\n",
    "file.close()\n",
    "\n",
    "# 改行でデータを分割\n",
    "sentences = data.splitlines()\n",
    "\n",
    "# トークナイザを作る\n",
    "tokenizer = Tokenizer()\n",
    "\n",
    "# 単語ごとに分かれたデータを持っている\n",
    "word_list =[] -> List[List[str]]\n",
    "\n",
    "# 単語ごとに分割し、そのリストをword_listに追加\n",
    "for sentence in sentences:\n",
    "    tokens = tokenizer.tokenize(sentence)\n",
    "    tmp_words = []\n",
    "    for token in tokens:\n",
    "        print(token.part_of_speech)\n",
    "        tmp_words.append(token.base_form)\n",
    "        \n",
    "    word_list.append(tmp_words)\n",
    "\n",
    "# print(word_list[:])\n"
   ]
  },
  {
   "cell_type": "code",
   "execution_count": null,
   "id": "a82e063f",
   "metadata": {},
   "outputs": [],
   "source": []
  },
  {
   "cell_type": "markdown",
   "id": "db4d647c",
   "metadata": {},
   "source": [
    "Word2Vec"
   ]
  },
  {
   "cell_type": "code",
   "execution_count": 2,
   "id": "c1d10279",
   "metadata": {},
   "outputs": [
    {
     "name": "stderr",
     "output_type": "stream",
     "text": [
      "C:\\Users\\konolab\\anaconda3\\envs\\tensorflow-gpu\\lib\\site-packages\\gensim\\similarities\\__init__.py:15: UserWarning: The gensim.similarities.levenshtein submodule is disabled, because the optional Levenshtein package <https://pypi.org/project/python-Levenshtein/> is unavailable. Install Levenhstein (e.g. `pip install python-Levenshtein`) to suppress this warning.\n",
      "  warnings.warn(msg)\n"
     ]
    }
   ],
   "source": [
    "from gensim.models import Word2Vec\n",
    "\n",
    "w2v_size = 64\n",
    "\n",
    "# iter:機械学習の繰り返し回数（デフォルトは５）十分に学習できていないときに調整\n",
    "\n",
    "# Word2Vecの学習　ここで\n",
    "w2v = Word2Vec(word_list , size = w2v_size , min_count = 5, window = 5,iter = 5)\n",
    "\n"
   ]
  },
  {
   "cell_type": "code",
   "execution_count": null,
   "id": "41564dfe",
   "metadata": {},
   "outputs": [],
   "source": [
    "import numpy as np\n",
    "from keras.layers import Embedding\n",
    "import pandas as pd\n",
    "\n",
    "def get_embedding_matrix(model , word_index):\n",
    "    embedding_matrix = np.zeros((max(list(word_index.values())) + 1, model.vector_size),dtype = \"float32\")\n",
    "    \n",
    "    for word , labale in word_index.items():\n",
    "        try:\n",
    "            embedding_matrix[label] = model.wv[word]\n",
    "        except KeyError:\n",
    "            pass\n",
    "    return embedding_matrix\n",
    "    "
   ]
  },
  {
   "cell_type": "code",
   "execution_count": null,
   "id": "12c854c6",
   "metadata": {},
   "outputs": [],
   "source": [
    "word_index = {key:int(key) for key in w2v.wv.vocab}\n",
    "\n",
    "word_index['0'] = 0\n",
    "\n",
    "emb_mat = get_embedding_matrix(w2v , word_index)\n",
    "\n",
    "emb.mat.shape\n"
   ]
  },
  {
   "cell_type": "code",
   "execution_count": null,
   "id": "82bd669b",
   "metadata": {},
   "outputs": [],
   "source": [
    "num_words,w2v_size = embedding_matrix.shape\n",
    "\n",
    "Embedding(num_words , w2v_size,\n",
    "         weights=[embedding_matrix],\n",
    "         input_length=max_len,\n",
    "         trainable=False)\n",
    "\n"
   ]
  },
  {
   "cell_type": "markdown",
   "id": "7b471b67",
   "metadata": {},
   "source": [
    "LSTM"
   ]
  },
  {
   "cell_type": "code",
   "execution_count": null,
   "id": "83d1ca38",
   "metadata": {},
   "outputs": [],
   "source": [
    "max_len = pd.DataFrame(word_list)[0].apply(lambda x:len(x)).max()\n",
    "\n",
    "num_words, w2v_size = embedding_matrix.shape\n",
    "\n",
    "model = Sequential()\n",
    "model.add(Embedding(num_words,w2v_size,\n",
    "                   weights = [embedding_matrix],\n",
    "                   imput_length=max_len,\n",
    "                   trainable=False))\n",
    "model.add(LSTM(128,batch_input_shape=(None,max_len,w2v_size),retern_sequences=False))\n",
    "model.add(Dense(8))\n",
    "model.add(Activation(\"softmax\"))\n",
    "\n",
    "model.summary()\n",
    "\n",
    "#  データセット読み込んで学習してみよう！"
   ]
  },
  {
   "cell_type": "code",
   "execution_count": null,
   "id": "01a980de",
   "metadata": {},
   "outputs": [],
   "source": []
  },
  {
   "cell_type": "code",
   "execution_count": null,
   "id": "3b8a7f2b",
   "metadata": {},
   "outputs": [],
   "source": []
  }
 ],
 "metadata": {
  "kernelspec": {
   "display_name": "Python 3",
   "language": "python",
   "name": "python3"
  },
  "language_info": {
   "codemirror_mode": {
    "name": "ipython",
    "version": 3
   },
   "file_extension": ".py",
   "mimetype": "text/x-python",
   "name": "python",
   "nbconvert_exporter": "python",
   "pygments_lexer": "ipython3",
   "version": "3.6.13"
  }
 },
 "nbformat": 4,
 "nbformat_minor": 5
}
